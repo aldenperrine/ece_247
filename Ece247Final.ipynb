{
 "cells": [
  {
   "cell_type": "markdown",
   "metadata": {},
   "source": [
    "This is the jupyter notebook which will hold our neural networks and be used to create graphs and stuff"
   ]
  },
  {
   "cell_type": "code",
   "execution_count": 44,
   "metadata": {},
   "outputs": [
    {
     "name": "stdout",
     "output_type": "stream",
     "text": [
      "X_test: (443, 22, 1000) \n",
      "y_test: (443,) \n",
      "person_train_valid: (2115, 1) \n",
      "X_train_valid: (2115, 22, 1000) \n",
      "y_train_valid: (2115,) \n",
      "person_test: (443, 1) \n"
     ]
    }
   ],
   "source": [
    "import numpy as np\n",
    "X_test = np.load(\"project/X_test.npy\")\n",
    "y_test = np.load(\"project/y_test.npy\")\n",
    "person_train_valid = np.load(\"project/person_train_valid.npy\")\n",
    "X_train_valid = np.load(\"project/X_train_valid.npy\")\n",
    "y_train_valid = np.load(\"project/y_train_valid.npy\")\n",
    "person_test = np.load(\"project/person_test.npy\")\n",
    "\n",
    "sets = (X_test, y_test, person_train_valid, X_train_valid, y_train_valid, person_test)\n",
    "labels = [\"X_test\",\n",
    "          \"y_test\",\n",
    "          \"person_train_valid\",\n",
    "          \"X_train_valid\",\n",
    "          \"y_train_valid\",\n",
    "          \"person_test\"]\n",
    "for i, k in enumerate(sets):\n",
    "    print('{}: {} '.format(labels[i], k.shape))"
   ]
  },
  {
   "cell_type": "markdown",
   "metadata": {},
   "source": [
    "There are 2115 trials and 1000 timestamps. There are 22 electrodes. There are 443 test trials. There are persons 0-8 (inclusive) and person_train_valid[trial] gives the person that was used in the specific trial. "
   ]
  },
  {
   "cell_type": "markdown",
   "metadata": {},
   "source": [
    "The following cell takes the y data and subtracts 769 so the classes are 0, 1, 2, 3. DO NOT RUN THIS MORE THAN ONCE PER KERNEL RESTART."
   ]
  },
  {
   "cell_type": "code",
   "execution_count": 45,
   "metadata": {},
   "outputs": [],
   "source": [
    "for x in range(y_test.shape[0]):\n",
    "    y_test[x] -= 769\n",
    "    \n",
    "for y in range(y_train_valid.shape[0]):\n",
    "    y_train_valid[y] -= 769"
   ]
  },
  {
   "cell_type": "markdown",
   "metadata": {},
   "source": [
    "The below code gets the trials for the first subject (subject 0)"
   ]
  },
  {
   "cell_type": "code",
   "execution_count": 68,
   "metadata": {},
   "outputs": [
    {
     "name": "stdout",
     "output_type": "stream",
     "text": [
      "There are 237 trials for subject 1\n",
      "Subject 1 is involved in trials [0, 1, 2, 3, 4, 5, 6, 7, 8, 9, 10, 11, 12, 13, 14, 15, 16, 17, 18, 19, 20, 21, 22, 23, 24, 25, 26, 27, 28, 29, 30, 31, 32, 33, 34, 35, 36, 37, 38, 39, 40, 41, 42, 43, 44, 45, 46, 47, 48, 49, 50, 51, 52, 53, 54, 55, 56, 57, 58, 59, 60, 61, 62, 63, 64, 65, 66, 67, 68, 69, 70, 71, 72, 73, 74, 75, 76, 77, 78, 79, 80, 81, 82, 83, 84, 85, 86, 87, 88, 89, 90, 91, 92, 93, 94, 95, 96, 97, 98, 99, 100, 101, 102, 103, 104, 105, 106, 107, 108, 109, 110, 111, 112, 113, 114, 115, 116, 117, 118, 119, 120, 121, 122, 123, 124, 125, 126, 127, 128, 129, 130, 131, 132, 133, 134, 135, 136, 137, 138, 139, 140, 141, 142, 143, 144, 145, 146, 147, 148, 149, 150, 151, 152, 153, 154, 155, 156, 157, 158, 159, 160, 161, 162, 163, 164, 165, 166, 167, 168, 169, 170, 171, 172, 173, 174, 175, 176, 177, 178, 179, 180, 181, 182, 183, 184, 185, 186, 187, 188, 189, 190, 191, 192, 193, 194, 195, 196, 197, 198, 1777, 1778, 1779, 1780, 1781, 1782, 1783, 1784, 1785, 1786, 1787, 1788, 1789, 1790, 1791, 1792, 1793, 1794, 1795, 1796, 1797, 1798, 1799, 1800, 1801, 1802, 1803, 1804, 1805, 1806, 1807, 1808, 1809, 1810, 1811, 1812, 1813, 1814]\n",
      "s1_x_valid shape is (237, 22, 1000)\n",
      "s1_y_valid shape is (237,)\n",
      "\n",
      "test data below\n",
      "There are 50 trials for subject 1\n",
      "Subject 1 is involved in trials [0, 1, 2, 3, 4, 5, 6, 7, 8, 9, 10, 11, 12, 13, 14, 15, 16, 17, 18, 19, 20, 21, 22, 23, 24, 25, 26, 27, 28, 29, 30, 31, 32, 33, 34, 35, 36, 37, 38, 39, 40, 41, 42, 43, 44, 45, 46, 47, 48, 49]\n",
      "s1_x_test shape is (50, 22, 1000)\n",
      "s1_y_test shape is (50,)\n"
     ]
    }
   ],
   "source": [
    "subject_1_count = 0\n",
    "for i in range(person_train_valid.shape[0]):\n",
    "    if person_train_valid[i] == 0:\n",
    "        subject_1_count += 1\n",
    "subject_1_valid = [0] * subject_1_count\n",
    "j = 0\n",
    "for i in range(person_train_valid.shape[0]):\n",
    "    if person_train_valid[i] == 0:\n",
    "        subject_1_valid[j] = i\n",
    "        j += 1\n",
    "print(f'There are {subject_1_count} trials for subject 1')\n",
    "print(f'Subject 1 is involved in trials {[x for x in subject_1_valid]}')\n",
    "s1_x_valid = np.zeros((subject_1_count, 22, 1000))\n",
    "r = 0\n",
    "for i in subject_1_valid:\n",
    "    s1_x_valid[r,:,:] = X_train_valid[i,:,:]\n",
    "    r += 1\n",
    "print(f's1_x_valid shape is {s1_x_valid.shape}')\n",
    "s1_y_valid = np.zeros((subject_1_count))\n",
    "r = 0\n",
    "for p in subject_1_valid:\n",
    "    s1_y_valid[r] = y_train_valid[p]\n",
    "    r += 1\n",
    "print(f's1_y_valid shape is {s1_y_valid.shape}')\n",
    "\n",
    "print('')\n",
    "print('test data below')\n",
    "\n",
    "subject_1_count_test = 0\n",
    "for i in range(person_test.shape[0]):\n",
    "    if person_test[i] == 0:\n",
    "        subject_1_count_test += 1\n",
    "subject_1_valid_test = [0] * subject_1_count_test\n",
    "j = 0\n",
    "for i in range(person_test.shape[0]):\n",
    "    if person_test[i] == 0:\n",
    "        subject_1_valid_test[j] = i\n",
    "        j += 1\n",
    "print(f'There are {subject_1_count_test} trials for subject 1')\n",
    "print(f'Subject 1 is involved in trials {[x for x in subject_1_valid_test]}')\n",
    "s1_x_test = np.zeros((subject_1_count_test, 22, 1000))\n",
    "r = 0\n",
    "for i in subject_1_valid_test:\n",
    "    s1_x_test[r,:,:] = X_test[i,:,:]\n",
    "    r += 1\n",
    "print(f's1_x_test shape is {s1_x_test.shape}')\n",
    "s1_y_test = np.zeros((subject_1_count_test))\n",
    "r = 0\n",
    "for p in subject_1_valid_test:\n",
    "    s1_y_test[r] = y_test[p]\n",
    "    r += 1\n",
    "print(f's1_y_test shape is {s1_y_test.shape}')"
   ]
  },
  {
   "cell_type": "markdown",
   "metadata": {},
   "source": [
    "train a NN"
   ]
  },
  {
   "cell_type": "code",
   "execution_count": 69,
   "metadata": {},
   "outputs": [
    {
     "ename": "ModuleNotFoundError",
     "evalue": "No module named 'tensorflow'",
     "output_type": "error",
     "traceback": [
      "\u001b[1;31m---------------------------------------------------------------------------\u001b[0m",
      "\u001b[1;31mModuleNotFoundError\u001b[0m                       Traceback (most recent call last)",
      "\u001b[1;32m<ipython-input-69-1747e2513818>\u001b[0m in \u001b[0;36m<module>\u001b[1;34m()\u001b[0m\n\u001b[1;32m----> 1\u001b[1;33m \u001b[1;32mfrom\u001b[0m \u001b[0mmodels\u001b[0m \u001b[1;32mimport\u001b[0m \u001b[1;33m*\u001b[0m\u001b[1;33m\u001b[0m\u001b[1;33m\u001b[0m\u001b[0m\n\u001b[0m\u001b[0;32m      2\u001b[0m \u001b[0mmodel\u001b[0m \u001b[1;33m=\u001b[0m \u001b[0mmake_cnn_model\u001b[0m\u001b[1;33m(\u001b[0m\u001b[0ms1_x_valid\u001b[0m\u001b[1;33m,\u001b[0m \u001b[0ms1_y_valid\u001b[0m\u001b[1;33m,\u001b[0m \u001b[0ms1_x_test\u001b[0m\u001b[1;33m,\u001b[0m \u001b[0ms1_y_test\u001b[0m\u001b[1;33m)\u001b[0m\u001b[1;33m\u001b[0m\u001b[1;33m\u001b[0m\u001b[0m\n",
      "\u001b[1;32mC:\\SharedData\\project_data\\ece_247\\models.py\u001b[0m in \u001b[0;36m<module>\u001b[1;34m()\u001b[0m\n\u001b[0;32m      3\u001b[0m \u001b[1;32mfrom\u001b[0m \u001b[0m__future__\u001b[0m \u001b[1;32mimport\u001b[0m \u001b[0mabsolute_import\u001b[0m\u001b[1;33m,\u001b[0m \u001b[0mdivision\u001b[0m\u001b[1;33m,\u001b[0m \u001b[0mprint_function\u001b[0m\u001b[1;33m,\u001b[0m \u001b[0municode_literals\u001b[0m\u001b[1;33m\u001b[0m\u001b[1;33m\u001b[0m\u001b[0m\n\u001b[0;32m      4\u001b[0m \u001b[1;33m\u001b[0m\u001b[0m\n\u001b[1;32m----> 5\u001b[1;33m \u001b[1;32mimport\u001b[0m \u001b[0mtensorflow\u001b[0m \u001b[1;32mas\u001b[0m \u001b[0mtf\u001b[0m\u001b[1;33m\u001b[0m\u001b[1;33m\u001b[0m\u001b[0m\n\u001b[0m\u001b[0;32m      6\u001b[0m \u001b[1;32mfrom\u001b[0m \u001b[0mtensorflow\u001b[0m \u001b[1;32mimport\u001b[0m \u001b[0mkeras\u001b[0m\u001b[1;33m\u001b[0m\u001b[1;33m\u001b[0m\u001b[0m\n\u001b[0;32m      7\u001b[0m \u001b[1;32mfrom\u001b[0m \u001b[0mtensorflow\u001b[0m\u001b[1;33m.\u001b[0m\u001b[0mkeras\u001b[0m \u001b[1;32mimport\u001b[0m \u001b[0mlayers\u001b[0m\u001b[1;33m\u001b[0m\u001b[1;33m\u001b[0m\u001b[0m\n",
      "\u001b[1;31mModuleNotFoundError\u001b[0m: No module named 'tensorflow'"
     ]
    }
   ],
   "source": [
    "from models import *\n",
    "model = make_cnn_model(s1_x_valid, s1_y_valid, s1_x_test, s1_y_test)"
   ]
  },
  {
   "cell_type": "code",
   "execution_count": null,
   "metadata": {},
   "outputs": [],
   "source": []
  }
 ],
 "metadata": {
  "kernelspec": {
   "display_name": "Python 3",
   "language": "python",
   "name": "python3"
  },
  "language_info": {
   "codemirror_mode": {
    "name": "ipython",
    "version": 3
   },
   "file_extension": ".py",
   "mimetype": "text/x-python",
   "name": "python",
   "nbconvert_exporter": "python",
   "pygments_lexer": "ipython3",
   "version": "3.7.4"
  }
 },
 "nbformat": 4,
 "nbformat_minor": 2
}
