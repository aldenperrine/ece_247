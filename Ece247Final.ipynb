{
 "cells": [
  {
   "cell_type": "markdown",
   "metadata": {},
   "source": [
    "This is the jupyter notebook which will hold our neural networks and be used to create graphs and stuff"
   ]
  },
  {
   "cell_type": "code",
   "execution_count": 1,
   "metadata": {},
   "outputs": [
    {
     "name": "stdout",
     "output_type": "stream",
     "text": [
      "generating data using all test and all train\n",
      "X_test: (443, 22, 1000) \n",
      "y_test: (443,) \n",
      "person_train_valid: (2115, 1) \n",
      "X_train_valid: (2115, 22, 1000) \n",
      "y_train_valid: (2115,) \n",
      "person_test: (443, 1) \n",
      "generating data using subj 1 test and subj 1 train\n",
      "X_test: (50, 22, 1000) \n",
      "y_test: (50,) \n",
      "person_train_valid: (2115, 1) \n",
      "X_train_valid: (237, 22, 1000) \n",
      "y_train_valid: (237,) \n",
      "person_test: (443, 1) \n",
      "generating data using subj 1 test and full train\n",
      "X_test: (50, 22, 1000) \n",
      "y_test: (50,) \n",
      "person_train_valid: (2115, 1) \n",
      "X_train_valid: (2115, 22, 1000) \n",
      "y_train_valid: (2115,) \n",
      "person_test: (443, 1) \n"
     ]
    }
   ],
   "source": [
    "import numpy as np\n",
    "from load import *\n",
    "sets = load_data()\n",
    "labels = [\"X_test\",\n",
    "\"y_test\",\n",
    "\"person_train_valid\",\n",
    "\"X_train_valid\",\n",
    "\"y_train_valid\",\n",
    "\"person_test\"]\n",
    "print('generating data using all test and all train')\n",
    "for i, k in enumerate(sets):\n",
    "    print('{}: {} '.format(labels[i], k.shape))\n",
    "print('generating data using subj 1 test and subj 1 train')\n",
    "printy = load_data_subject_1_train_and_test()\n",
    "for i, k in enumerate(printy):\n",
    "    print('{}: {} '.format(labels[i], k.shape))\n",
    "print('generating data using subj 1 test and full train')\n",
    "thingy = load_data_subject_1_test_and_full_train()\n",
    "for i, k in enumerate(thingy):\n",
    "    print('{}: {} '.format(labels[i], k.shape))"
   ]
  },
  {
   "cell_type": "markdown",
   "metadata": {},
   "source": [
    "There are 2115 trials and 1000 timestamps. There are 22 electrodes. There are 443 test trials. There are persons 0-8 (inclusive) and person_train_valid[trial] gives the person that was used in the specific trial. "
   ]
  },
  {
   "cell_type": "markdown",
   "metadata": {},
   "source": [
    "The following cell takes the y data and subtracts 769 so the classes are 0, 1, 2, 3. DO NOT RUN THIS MORE THAN ONCE PER KERNEL RESTART."
   ]
  },
  {
   "cell_type": "markdown",
   "metadata": {},
   "source": [
    "train a NN for the first subject"
   ]
  },
  {
   "cell_type": "code",
   "execution_count": 70,
   "metadata": {},
   "outputs": [
    {
     "ename": "ModuleNotFoundError",
     "evalue": "No module named 'tensorflow'",
     "output_type": "error",
     "traceback": [
      "\u001b[1;31m---------------------------------------------------------------------------\u001b[0m",
      "\u001b[1;31mModuleNotFoundError\u001b[0m                       Traceback (most recent call last)",
      "\u001b[1;32m<ipython-input-70-1747e2513818>\u001b[0m in \u001b[0;36m<module>\u001b[1;34m()\u001b[0m\n\u001b[1;32m----> 1\u001b[1;33m \u001b[1;32mfrom\u001b[0m \u001b[0mmodels\u001b[0m \u001b[1;32mimport\u001b[0m \u001b[1;33m*\u001b[0m\u001b[1;33m\u001b[0m\u001b[1;33m\u001b[0m\u001b[0m\n\u001b[0m\u001b[0;32m      2\u001b[0m \u001b[0mmodel\u001b[0m \u001b[1;33m=\u001b[0m \u001b[0mmake_cnn_model\u001b[0m\u001b[1;33m(\u001b[0m\u001b[0ms1_x_valid\u001b[0m\u001b[1;33m,\u001b[0m \u001b[0ms1_y_valid\u001b[0m\u001b[1;33m,\u001b[0m \u001b[0ms1_x_test\u001b[0m\u001b[1;33m,\u001b[0m \u001b[0ms1_y_test\u001b[0m\u001b[1;33m)\u001b[0m\u001b[1;33m\u001b[0m\u001b[1;33m\u001b[0m\u001b[0m\n",
      "\u001b[1;32mC:\\SharedData\\project_data\\ece_247\\models.py\u001b[0m in \u001b[0;36m<module>\u001b[1;34m()\u001b[0m\n\u001b[0;32m      3\u001b[0m \u001b[1;32mfrom\u001b[0m \u001b[0m__future__\u001b[0m \u001b[1;32mimport\u001b[0m \u001b[0mabsolute_import\u001b[0m\u001b[1;33m,\u001b[0m \u001b[0mdivision\u001b[0m\u001b[1;33m,\u001b[0m \u001b[0mprint_function\u001b[0m\u001b[1;33m,\u001b[0m \u001b[0municode_literals\u001b[0m\u001b[1;33m\u001b[0m\u001b[1;33m\u001b[0m\u001b[0m\n\u001b[0;32m      4\u001b[0m \u001b[1;33m\u001b[0m\u001b[0m\n\u001b[1;32m----> 5\u001b[1;33m \u001b[1;32mimport\u001b[0m \u001b[0mtensorflow\u001b[0m \u001b[1;32mas\u001b[0m \u001b[0mtf\u001b[0m\u001b[1;33m\u001b[0m\u001b[1;33m\u001b[0m\u001b[0m\n\u001b[0m\u001b[0;32m      6\u001b[0m \u001b[1;32mfrom\u001b[0m \u001b[0mtensorflow\u001b[0m \u001b[1;32mimport\u001b[0m \u001b[0mkeras\u001b[0m\u001b[1;33m\u001b[0m\u001b[1;33m\u001b[0m\u001b[0m\n\u001b[0;32m      7\u001b[0m \u001b[1;32mfrom\u001b[0m \u001b[0mtensorflow\u001b[0m\u001b[1;33m.\u001b[0m\u001b[0mkeras\u001b[0m \u001b[1;32mimport\u001b[0m \u001b[0mlayers\u001b[0m\u001b[1;33m\u001b[0m\u001b[1;33m\u001b[0m\u001b[0m\n",
      "\u001b[1;31mModuleNotFoundError\u001b[0m: No module named 'tensorflow'"
     ]
    }
   ],
   "source": [
    "from models import *\n",
    "model = make_cnn_model(s1_x_valid, s1_y_valid, s1_x_test, s1_y_test)"
   ]
  },
  {
   "cell_type": "code",
   "execution_count": null,
   "metadata": {},
   "outputs": [],
   "source": []
  }
 ],
 "metadata": {
  "kernelspec": {
   "display_name": "Python 3",
   "language": "python",
   "name": "python3"
  },
  "language_info": {
   "codemirror_mode": {
    "name": "ipython",
    "version": 3
   },
   "file_extension": ".py",
   "mimetype": "text/x-python",
   "name": "python",
   "nbconvert_exporter": "python",
   "pygments_lexer": "ipython3",
   "version": "3.7.4"
  }
 },
 "nbformat": 4,
 "nbformat_minor": 2
}
