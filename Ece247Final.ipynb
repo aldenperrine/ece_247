{
 "cells": [
  {
   "cell_type": "markdown",
   "metadata": {},
   "source": [
    "This is the jupyter notebook which will hold our neural networks and be used to create graphs and stuff"
   ]
  },
  {
   "cell_type": "code",
   "execution_count": 2,
   "metadata": {},
   "outputs": [
    {
     "name": "stdout",
     "output_type": "stream",
     "text": [
      "X_test: (443, 22, 1000) \n",
      "y_test: (443,) \n",
      "person_train_valid: (2115, 1) \n",
      "X_train_valid: (2115, 22, 1000) \n",
      "y_train_valid: (2115,) \n",
      "person_test: (443, 1) \n"
     ]
    }
   ],
   "source": [
    "import numpy as np\n",
    "X_test = np.load(\"project/X_test.npy\")\n",
    "y_test = np.load(\"project/y_test.npy\")\n",
    "person_train_valid = np.load(\"project/person_train_valid.npy\")\n",
    "X_train_valid = np.load(\"project/X_train_valid.npy\")\n",
    "y_train_valid = np.load(\"project/y_train_valid.npy\")\n",
    "person_test = np.load(\"project/person_test.npy\")\n",
    "\n",
    "sets = (X_test, y_test, person_train_valid, X_train_valid, y_train_valid, person_test)\n",
    "labels = [\"X_test\",\n",
    "          \"y_test\",\n",
    "          \"person_train_valid\",\n",
    "          \"X_train_valid\",\n",
    "          \"y_train_valid\",\n",
    "          \"person_test\"]\n",
    "for i, k in enumerate(sets):\n",
    "    print('{}: {} '.format(labels[i], k.shape))"
   ]
  },
  {
   "cell_type": "markdown",
   "metadata": {},
   "source": [
    "There are 2115 trials and 1000 timestamps. There are 22 electrodes. There are 443 test trials. There are persons 0-8 (inclusive) and person_train_valid[trial] gives the person that was used in the specific trial. "
   ]
  },
  {
   "cell_type": "code",
   "execution_count": null,
   "metadata": {},
   "outputs": [],
   "source": []
  }
 ],
 "metadata": {
  "kernelspec": {
   "display_name": "Python 3",
   "language": "python",
   "name": "python3"
  },
  "language_info": {
   "codemirror_mode": {
    "name": "ipython",
    "version": 3
   },
   "file_extension": ".py",
   "mimetype": "text/x-python",
   "name": "python",
   "nbconvert_exporter": "python",
   "pygments_lexer": "ipython3",
   "version": "3.7.4"
  }
 },
 "nbformat": 4,
 "nbformat_minor": 2
}
